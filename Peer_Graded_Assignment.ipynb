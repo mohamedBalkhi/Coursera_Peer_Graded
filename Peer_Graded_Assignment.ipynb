{
 "cells": [
  {
   "cell_type": "markdown",
   "id": "df9ce844-5ba0-4ede-b0aa-1484712dce8c",
   "metadata": {},
   "source": [
    "<h1>My Jupyter Notebook on IBM Watson Studio</h1>"
   ]
  },
  {
   "cell_type": "markdown",
   "id": "c80ea272-111f-4b2b-a3e0-48ffde98861a",
   "metadata": {},
   "source": [
    "<b>Mohammad Al Balki</b><br>\n",
    "I am currently a Student"
   ]
  },
  {
   "cell_type": "markdown",
   "id": "40323a0d-57ba-4f96-9f1e-0172d858427f",
   "metadata": {},
   "source": [
    "<i>I am interested in data science because of it's big impacts on our lives nowadays, every single company now uses data science and machine learning to help satisfying their consumers,I'd like to be part of that too </i>"
   ]
  },
  {
   "cell_type": "markdown",
   "id": "1442bd8f-fedd-4dc1-905f-f36518de5ba9",
   "metadata": {},
   "source": [
    "<h3>In the next cell i'm gonna write a code that prints the odd numbers from 1-10</h3>"
   ]
  },
  {
   "cell_type": "code",
   "execution_count": 2,
   "id": "698bf3f8-03f5-42c1-8fd4-3ea01528dfdf",
   "metadata": {},
   "outputs": [
    {
     "name": "stdout",
     "output_type": "stream",
     "text": [
      "1\n",
      "3\n",
      "5\n",
      "7\n",
      "9\n"
     ]
    }
   ],
   "source": [
    "for i in range(1,10,2):\n",
    "    print(i)"
   ]
  },
  {
   "cell_type": "markdown",
   "id": "0c5dc8b0-0af2-49fa-bdd1-d23c3589a0b1",
   "metadata": {},
   "source": [
    "<ol>\n",
    "    <li>Data science</li>\n",
    "    <li>Machine Learning:<ul><li>Supervised Learning</li><li>Unsupervised Learning</li><li>Reinforcment Learning</li</ul></li>\n",
    "</ol>\n",
    "<hr>\n",
    "<img src=\"https://www.pioneersnow.com/wp-content/uploads/2021/08/machine_learning_746x419.jpg\">\n",
    "<br>\n",
    "\n",
    "<del>Thank you for reviewing</del>"
   ]
  },
  {
   "cell_type": "code",
   "execution_count": null,
   "id": "f056526e-1d26-4526-8130-bb96c61ee8bc",
   "metadata": {},
   "outputs": [],
   "source": []
  }
 ],
 "metadata": {
  "kernelspec": {
   "display_name": "Python",
   "language": "python",
   "name": "conda-env-python-py"
  },
  "language_info": {
   "codemirror_mode": {
    "name": "ipython",
    "version": 3
   },
   "file_extension": ".py",
   "mimetype": "text/x-python",
   "name": "python",
   "nbconvert_exporter": "python",
   "pygments_lexer": "ipython3",
   "version": "3.7.12"
  }
 },
 "nbformat": 4,
 "nbformat_minor": 5
}
